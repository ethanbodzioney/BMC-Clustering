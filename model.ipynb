{
 "cells": [
  {
   "cell_type": "code",
   "execution_count": 1,
   "metadata": {
    "collapsed": true
   },
   "outputs": [],
   "source": [
    "import pickle\n",
    "import networkx as nx\n",
    "import markov_clustering as mc\n",
    "import itertools as it"
   ]
  },
  {
   "cell_type": "code",
   "execution_count": 2,
   "outputs": [],
   "source": [
    "with open('../data/axen_loclass_input.pickle', 'rb') as f:\n",
    "    domains = pickle.load(f)\n",
    "\n",
    "pfams = {}\n",
    "for loci in domains:\n",
    "    pfams[loci] = set(item for lst in domains[loci] for item in lst if ('PF00936' not in lst and 'PF03319' not in lst))"
   ],
   "metadata": {
    "collapsed": false,
    "pycharm": {
     "name": "#%%\n"
    }
   }
  },
  {
   "cell_type": "code",
   "execution_count": 3,
   "outputs": [],
   "source": [
    "identifying_pfams = {'PF12288',\n",
    "                     'PF08936',\n",
    "                     'PF00132',\n",
    "                     'PF06751',\n",
    "                     'PF05985',\n",
    "                     'PF02286',\n",
    "                     'PF02287',\n",
    "                     'PF02288',\n",
    "                     'PF00596'}\n",
    "\n",
    "weights = {}\n",
    "for loci in domains:\n",
    "\n",
    "    for index, gene in enumerate(domains[loci]):\n",
    "        if 'PF00936' in gene or 'PF03319' in gene:\n",
    "            envelope_start = index\n",
    "            break\n",
    "    for index, gene in reversed(list(enumerate(domains[loci]))):\n",
    "        if 'PF00936' in gene or 'PF03319' in gene:\n",
    "            envelope_end = index\n",
    "            break\n",
    "\n",
    "    weights[loci] = {}\n",
    "    for idx, o in enumerate(domains[loci]):\n",
    "            if idx > envelope_end:\n",
    "                dis = idx - envelope_end\n",
    "            elif idx < envelope_start:\n",
    "                dis = envelope_start - idx\n",
    "            else:\n",
    "                dis = 0\n",
    "            for domain in o:\n",
    "                weights[loci][domain] = dis"
   ],
   "metadata": {
    "collapsed": false,
    "pycharm": {
     "name": "#%%\n"
    }
   }
  },
  {
   "cell_type": "code",
   "execution_count": 4,
   "outputs": [],
   "source": [
    "rarity = {}\n",
    "\n",
    "for loci in domains:\n",
    "    for index, pf in enumerate(domains[loci]):\n",
    "        for pfam in pf:\n",
    "            if pfam not in rarity.keys():\n",
    "                rarity[pfam] = len([i for i, P in pfams.items() if pfam not in P]) / len(pfams.keys())"
   ],
   "metadata": {
    "collapsed": false,
    "pycharm": {
     "name": "#%%\n"
    }
   }
  },
  {
   "cell_type": "code",
   "execution_count": 5,
   "outputs": [],
   "source": [
    "def identifying(p):\n",
    "    if p in identifying_pfams:\n",
    "        return 3\n",
    "    else:\n",
    "        return 1\n",
    "\n",
    "def distance(d):\n",
    "        return max(1 - 0.1*d, 0.1)\n",
    "\n",
    "def coocurrence(p, c):\n",
    "    return len([i for i, P in pfams.items() if c <= P and p in P])/len([i for i, P in pfams.items() if c <= P])\n",
    "\n",
    "def similarity(i, j):\n",
    "\n",
    "    common = pfams[i] & pfams[j]\n",
    "    c_score = sum(identifying(p)\n",
    "                  * rarity[p]\n",
    "                  * distance(min(weights[i][p], weights[j][p])) for p in common)\n",
    "    d_score = sum(identifying(p)\n",
    "                  * rarity[p]\n",
    "                  * distance(weights[i][p])\n",
    "                  * coocurrence(p, common) for p in pfams[i] - pfams[j])\n",
    "\n",
    "    d1_score = sum(identifying(p)\n",
    "                   * rarity[p]\n",
    "                   * distance(weights[j][p])\n",
    "                   * coocurrence(p, common) for p in pfams[j] - pfams[i])\n",
    "\n",
    "    return c_score - .5*(d_score + d1_score)"
   ],
   "metadata": {
    "collapsed": false,
    "pycharm": {
     "name": "#%%\n"
    }
   }
  },
  {
   "cell_type": "code",
   "execution_count": 11,
   "outputs": [],
   "source": [
    "def main():\n",
    "    graph = nx.Graph()\n",
    "\n",
    "    for pair in list(it.combinations(domains.keys(), 2)):\n",
    "        score = similarity(pair[0], pair[1])\n",
    "        if score > 1:\n",
    "            graph.add_edge(pair[0], pair[1], weight=score)\n",
    "    return graph\n",
    "\n",
    "if __name__ == '__main__':\n",
    "    G = main()"
   ],
   "metadata": {
    "collapsed": false,
    "pycharm": {
     "name": "#%%\n"
    }
   }
  },
  {
   "cell_type": "code",
   "execution_count": 12,
   "outputs": [],
   "source": [
    "matrix = nx.to_scipy_sparse_matrix(G)\n",
    "result = mc.run_mcl(matrix)\n",
    "clusters = mc.get_clusters(result)"
   ],
   "metadata": {
    "collapsed": false,
    "pycharm": {
     "name": "#%%\n"
    }
   }
  },
  {
   "cell_type": "code",
   "execution_count": 13,
   "outputs": [],
   "source": [
    "cmap = {}\n",
    "for i, key in enumerate(G.nodes):\n",
    "    for j, value in enumerate(clusters):\n",
    "        if i in value:\n",
    "            cmap[key] = \"group\"+str(j)\n",
    "            break"
   ],
   "metadata": {
    "collapsed": false,
    "pycharm": {
     "name": "#%%\n"
    }
   }
  },
  {
   "cell_type": "code",
   "execution_count": 14,
   "outputs": [],
   "source": [
    "nx.set_node_attributes(G, cmap, \"group\")"
   ],
   "metadata": {
    "collapsed": false,
    "pycharm": {
     "name": "#%%\n"
    }
   }
  },
  {
   "cell_type": "code",
   "execution_count": 15,
   "outputs": [],
   "source": [
    "from networkx.readwrite import json_graph\n",
    "import json\n",
    "\n",
    "with open('../data.json', 'w') as outfile1:\n",
    "    outfile1.write(json.dumps(json_graph.node_link_data(G)))"
   ],
   "metadata": {
    "collapsed": false,
    "pycharm": {
     "name": "#%%\n"
    }
   }
  },
  {
   "cell_type": "code",
   "execution_count": null,
   "outputs": [],
   "source": [],
   "metadata": {
    "collapsed": false,
    "pycharm": {
     "name": "#%%\n"
    }
   }
  }
 ],
 "metadata": {
  "kernelspec": {
   "display_name": "Python 3",
   "language": "python",
   "name": "python3"
  },
  "language_info": {
   "codemirror_mode": {
    "name": "ipython",
    "version": 2
   },
   "file_extension": ".py",
   "mimetype": "text/x-python",
   "name": "python",
   "nbconvert_exporter": "python",
   "pygments_lexer": "ipython2",
   "version": "2.7.6"
  }
 },
 "nbformat": 4,
 "nbformat_minor": 0
}